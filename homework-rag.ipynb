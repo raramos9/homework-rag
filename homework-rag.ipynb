{
 "cells": [
  {
   "cell_type": "markdown",
   "id": "27005ecc",
   "metadata": {},
   "source": [
    "Implementing RAG based on my HW \n",
    "\n",
    "im just tryna learn rag. This project is an implementation based off of my COGSCI-132 hw. \n",
    "\n",
    "RAG can be broken down into 5 actionable steps:\n",
    "\n",
    "1. Load: We load in our data using DocumentLoaders. \n",
    "2. Split: Our data is split into chunks in order to be captured within the context window. We will use RecursiveTextSplitter to recursively split our text until the chunks are within the limt \n",
    "3. Store: The split data is then converted into embeddings. Embeddings is a way for text to be represented numerically for computers to understand. These embeddings are then stored in a vector store.\n",
    "4. Retrieve: The most relevant embeddings are retrieved based on a similarity search with the query.\n",
    "5. Generate: Both the query and most relevant context are then passed into the LLM to output the most accurate response."
   ]
  },
  {
   "cell_type": "markdown",
   "id": "6eb4ec5e",
   "metadata": {},
   "source": [
    "Setup\n",
    "\n",
    "We instantiate LangSmith for tracing, as well as OpenAI. The import getpass is used for a more secure input."
   ]
  },
  {
   "cell_type": "code",
   "execution_count": 14,
   "id": "eb919318",
   "metadata": {},
   "outputs": [
    {
     "name": "stdout",
     "output_type": "stream",
     "text": [
      "Note: you may need to restart the kernel to use updated packages.\n",
      "Note: you may need to restart the kernel to use updated packages.\n",
      "Note: you may need to restart the kernel to use updated packages.\n",
      "Requirement already satisfied: langchain-unstructured[local] in ./.venv/lib/python3.13/site-packages (0.1.5)\n",
      "Requirement already satisfied: langchain-core<0.4,>=0.3 in ./.venv/lib/python3.13/site-packages (from langchain-unstructured[local]) (0.3.76)\n",
      "Requirement already satisfied: unstructured-client<0.26.0,>=0.25.0 in ./.venv/lib/python3.13/site-packages (from langchain-unstructured[local]) (0.25.9)\n",
      "Requirement already satisfied: langsmith>=0.3.45 in ./.venv/lib/python3.13/site-packages (from langchain-core<0.4,>=0.3->langchain-unstructured[local]) (0.4.28)\n",
      "Requirement already satisfied: tenacity!=8.4.0,<10.0.0,>=8.1.0 in ./.venv/lib/python3.13/site-packages (from langchain-core<0.4,>=0.3->langchain-unstructured[local]) (9.1.2)\n",
      "Requirement already satisfied: jsonpatch<2.0,>=1.33 in ./.venv/lib/python3.13/site-packages (from langchain-core<0.4,>=0.3->langchain-unstructured[local]) (1.33)\n",
      "Requirement already satisfied: PyYAML>=5.3 in ./.venv/lib/python3.13/site-packages (from langchain-core<0.4,>=0.3->langchain-unstructured[local]) (6.0.2)\n",
      "Requirement already satisfied: typing-extensions>=4.7 in ./.venv/lib/python3.13/site-packages (from langchain-core<0.4,>=0.3->langchain-unstructured[local]) (4.15.0)\n",
      "Requirement already satisfied: packaging>=23.2 in ./.venv/lib/python3.13/site-packages (from langchain-core<0.4,>=0.3->langchain-unstructured[local]) (25.0)\n",
      "Requirement already satisfied: pydantic>=2.7.4 in ./.venv/lib/python3.13/site-packages (from langchain-core<0.4,>=0.3->langchain-unstructured[local]) (2.11.9)\n",
      "Requirement already satisfied: jsonpointer>=1.9 in ./.venv/lib/python3.13/site-packages (from jsonpatch<2.0,>=1.33->langchain-core<0.4,>=0.3->langchain-unstructured[local]) (3.0.0)\n",
      "Requirement already satisfied: certifi>=2023.7.22 in ./.venv/lib/python3.13/site-packages (from unstructured-client<0.26.0,>=0.25.0->langchain-unstructured[local]) (2025.8.3)\n",
      "Requirement already satisfied: charset-normalizer>=3.2.0 in ./.venv/lib/python3.13/site-packages (from unstructured-client<0.26.0,>=0.25.0->langchain-unstructured[local]) (3.4.3)\n",
      "Requirement already satisfied: cryptography>=3.1 in ./.venv/lib/python3.13/site-packages (from unstructured-client<0.26.0,>=0.25.0->langchain-unstructured[local]) (45.0.7)\n",
      "Requirement already satisfied: dataclasses-json>=0.6.4 in ./.venv/lib/python3.13/site-packages (from unstructured-client<0.26.0,>=0.25.0->langchain-unstructured[local]) (0.6.7)\n",
      "Requirement already satisfied: deepdiff>=6.0 in ./.venv/lib/python3.13/site-packages (from unstructured-client<0.26.0,>=0.25.0->langchain-unstructured[local]) (8.6.1)\n",
      "Requirement already satisfied: httpx>=0.27.0 in ./.venv/lib/python3.13/site-packages (from unstructured-client<0.26.0,>=0.25.0->langchain-unstructured[local]) (0.28.1)\n",
      "Requirement already satisfied: idna>=3.4 in ./.venv/lib/python3.13/site-packages (from unstructured-client<0.26.0,>=0.25.0->langchain-unstructured[local]) (3.10)\n",
      "Requirement already satisfied: jsonpath-python>=1.0.6 in ./.venv/lib/python3.13/site-packages (from unstructured-client<0.26.0,>=0.25.0->langchain-unstructured[local]) (1.0.6)\n",
      "Requirement already satisfied: marshmallow>=3.19.0 in ./.venv/lib/python3.13/site-packages (from unstructured-client<0.26.0,>=0.25.0->langchain-unstructured[local]) (3.26.1)\n",
      "Requirement already satisfied: mypy-extensions>=1.0.0 in ./.venv/lib/python3.13/site-packages (from unstructured-client<0.26.0,>=0.25.0->langchain-unstructured[local]) (1.1.0)\n",
      "Requirement already satisfied: nest-asyncio>=1.6.0 in ./.venv/lib/python3.13/site-packages (from unstructured-client<0.26.0,>=0.25.0->langchain-unstructured[local]) (1.6.0)\n",
      "Requirement already satisfied: pypdf>=4.0 in ./.venv/lib/python3.13/site-packages (from unstructured-client<0.26.0,>=0.25.0->langchain-unstructured[local]) (6.0.0)\n",
      "Requirement already satisfied: python-dateutil>=2.8.2 in ./.venv/lib/python3.13/site-packages (from unstructured-client<0.26.0,>=0.25.0->langchain-unstructured[local]) (2.9.0.post0)\n",
      "Requirement already satisfied: requests>=2.31.0 in ./.venv/lib/python3.13/site-packages (from unstructured-client<0.26.0,>=0.25.0->langchain-unstructured[local]) (2.32.5)\n",
      "Requirement already satisfied: requests-toolbelt>=1.0.0 in ./.venv/lib/python3.13/site-packages (from unstructured-client<0.26.0,>=0.25.0->langchain-unstructured[local]) (1.0.0)\n",
      "Requirement already satisfied: six>=1.16.0 in ./.venv/lib/python3.13/site-packages (from unstructured-client<0.26.0,>=0.25.0->langchain-unstructured[local]) (1.17.0)\n",
      "Requirement already satisfied: typing-inspect>=0.9.0 in ./.venv/lib/python3.13/site-packages (from unstructured-client<0.26.0,>=0.25.0->langchain-unstructured[local]) (0.9.0)\n",
      "Requirement already satisfied: urllib3>=1.26.18 in ./.venv/lib/python3.13/site-packages (from unstructured-client<0.26.0,>=0.25.0->langchain-unstructured[local]) (2.5.0)\n",
      "Requirement already satisfied: cffi>=1.14 in ./.venv/lib/python3.13/site-packages (from cryptography>=3.1->unstructured-client<0.26.0,>=0.25.0->langchain-unstructured[local]) (2.0.0)\n",
      "Requirement already satisfied: pycparser in ./.venv/lib/python3.13/site-packages (from cffi>=1.14->cryptography>=3.1->unstructured-client<0.26.0,>=0.25.0->langchain-unstructured[local]) (2.23)\n",
      "Requirement already satisfied: orderly-set<6,>=5.4.1 in ./.venv/lib/python3.13/site-packages (from deepdiff>=6.0->unstructured-client<0.26.0,>=0.25.0->langchain-unstructured[local]) (5.5.0)\n",
      "Requirement already satisfied: anyio in ./.venv/lib/python3.13/site-packages (from httpx>=0.27.0->unstructured-client<0.26.0,>=0.25.0->langchain-unstructured[local]) (4.10.0)\n",
      "Requirement already satisfied: httpcore==1.* in ./.venv/lib/python3.13/site-packages (from httpx>=0.27.0->unstructured-client<0.26.0,>=0.25.0->langchain-unstructured[local]) (1.0.9)\n",
      "Requirement already satisfied: h11>=0.16 in ./.venv/lib/python3.13/site-packages (from httpcore==1.*->httpx>=0.27.0->unstructured-client<0.26.0,>=0.25.0->langchain-unstructured[local]) (0.16.0)\n",
      "Requirement already satisfied: orjson>=3.9.14 in ./.venv/lib/python3.13/site-packages (from langsmith>=0.3.45->langchain-core<0.4,>=0.3->langchain-unstructured[local]) (3.11.3)\n",
      "Requirement already satisfied: zstandard>=0.23.0 in ./.venv/lib/python3.13/site-packages (from langsmith>=0.3.45->langchain-core<0.4,>=0.3->langchain-unstructured[local]) (0.25.0)\n",
      "Requirement already satisfied: annotated-types>=0.6.0 in ./.venv/lib/python3.13/site-packages (from pydantic>=2.7.4->langchain-core<0.4,>=0.3->langchain-unstructured[local]) (0.7.0)\n",
      "Requirement already satisfied: pydantic-core==2.33.2 in ./.venv/lib/python3.13/site-packages (from pydantic>=2.7.4->langchain-core<0.4,>=0.3->langchain-unstructured[local]) (2.33.2)\n",
      "Requirement already satisfied: typing-inspection>=0.4.0 in ./.venv/lib/python3.13/site-packages (from pydantic>=2.7.4->langchain-core<0.4,>=0.3->langchain-unstructured[local]) (0.4.1)\n",
      "Requirement already satisfied: sniffio>=1.1 in ./.venv/lib/python3.13/site-packages (from anyio->httpx>=0.27.0->unstructured-client<0.26.0,>=0.25.0->langchain-unstructured[local]) (1.3.1)\n",
      "Note: you may need to restart the kernel to use updated packages.\n",
      "Note: you may need to restart the kernel to use updated packages.\n"
     ]
    }
   ],
   "source": [
    "# our text splitters and langchain\n",
    "%pip install --quiet --upgrade langchain-text-splitters langchain_community langgraph \n",
    "\n",
    "# our llm \n",
    "%pip install -qU \"langchain[openai]\"\n",
    "\n",
    "# our vector db \n",
    "%pip install -qU langchain-chroma \n",
    "\n",
    "# our pdf document loader\n",
    "%pip install \"langchain-unstructured[local]\" \n",
    "%pip install --upgrade --quiet langchain-unstructured unstructured-client unstructured \"unstructured[pdf]\" python-magic"
   ]
  },
  {
   "cell_type": "code",
   "execution_count": 4,
   "id": "906faf30",
   "metadata": {},
   "outputs": [],
   "source": [
    "import getpass \n",
    "import os \n",
    "\n",
    "os.environ[\"LANGSMITH_TRACING\"] = \"True\"\n",
    "os.environ[\"LANGSMITH_API_KEY\"] = getpass.getpass()"
   ]
  },
  {
   "cell_type": "code",
   "execution_count": 5,
   "id": "fa830b83",
   "metadata": {},
   "outputs": [],
   "source": [
    "if not os.environ.get(\"OPENAI_API_KEY\"):\n",
    "    os.environ[\"OPENAI_API_KEY\"] = getpass.getpass('Enter OpenAI API Key: ')"
   ]
  },
  {
   "cell_type": "markdown",
   "id": "63beb884",
   "metadata": {},
   "source": [
    "Here we will instantiate our LLM model, vector DB and our embeddings function."
   ]
  },
  {
   "cell_type": "code",
   "execution_count": 51,
   "id": "2ec569e2",
   "metadata": {},
   "outputs": [],
   "source": [
    "from langchain.chat_models import init_chat_model\n",
    "from langchain_openai import OpenAIEmbeddings\n",
    "from langchain_chroma import Chroma \n",
    "\n",
    "llm = init_chat_model(\"openai:gpt-5-nano\") # or (model=\"gpt-5-nano\", model_provider=\"openai\")\n",
    "\n",
    "embeddings = OpenAIEmbeddings(model='text-embedding-3-large')\n",
    "\n",
    "vector_store = Chroma(\n",
    "    collection_name=\"homework\",\n",
    "    embedding_function=embeddings\n",
    ")"
   ]
  },
  {
   "cell_type": "markdown",
   "id": "0e64e7df",
   "metadata": {},
   "source": [
    "Indexing \n",
    "\n",
    "We are going to index our data using **Unstructured**. This will allow us to parse not only text but also images within PDF documents."
   ]
  },
  {
   "cell_type": "code",
   "execution_count": null,
   "id": "586fe680",
   "metadata": {},
   "outputs": [
    {
     "name": "stdout",
     "output_type": "stream",
     "text": [
      "Warning: No languages specified, defaulting to English.\n",
      "Number of documents:  796\n",
      "Length of characteres:  58532\n"
     ]
    }
   ],
   "source": [
    "from langchain_unstructured import UnstructuredLoader\n",
    "from unstructured.cleaners.core import clean_extra_whitespace\n",
    "import json\n",
    "\n",
    "file_path = 'data/ermentrout-and-terman-ch-1.pdf'\n",
    "\n",
    "loader = UnstructuredLoader(\n",
    "    file_path,\n",
    "    post_processors=[clean_extra_whitespace]\n",
    ")\n",
    "docs = loader.load()\n",
    "\n",
    "# chroma doesnt accept complex metadata like dicts or lists\n",
    "# this code loops through all docs, all key value pairs inside the metadata and checks instances of dicts or lists\n",
    "# it will replace the value with a stringified version of the original value.\n",
    "for doc in docs:\n",
    "    for key,value in doc.metadata.items():\n",
    "        if isinstance(value, (dict,list)):\n",
    "            doc.metadata[key] = json.dumps(value)\n",
    "\n",
    "\n",
    "total_chars = \"\".join([doc.page_content for doc in docs])\n",
    "print(\"Number of documents: \", len(docs))\n",
    "print(\"Length of characteres: \", len(total_chars))\n",
    "\n"
   ]
  },
  {
   "cell_type": "markdown",
   "id": "c24ac2c8",
   "metadata": {},
   "source": [
    "Splitting Documents\n",
    "\n",
    "The length of characters exceeds the context window, and it would be difficult for models to find information with very long inptus.\n",
    "\n",
    "To handle this we split the documents into chunks for embedding and vector storage to retrieve only the most relevant information. \n",
    "\n",
    "We will use RecursiveTextSplitter to recursively split our text until the chunks are within the context window limit."
   ]
  },
  {
   "cell_type": "code",
   "execution_count": 64,
   "id": "7831e962",
   "metadata": {},
   "outputs": [
    {
     "name": "stdout",
     "output_type": "stream",
     "text": [
      "split documents into 797\n"
     ]
    }
   ],
   "source": [
    "from langchain_text_splitters import RecursiveCharacterTextSplitter\n",
    "\n",
    "# Initialize RecursiveCharacterTextSplitter \n",
    "# params: chunks, overlap, add_start_index \n",
    "# overlap for the context to not be cutoff \n",
    "# add_start_index makes each chunk store their orginal position in the text \n",
    "text_splitter = RecursiveCharacterTextSplitter(\n",
    "    chunk_size=1200,\n",
    "    chunk_overlap=300,\n",
    "    add_start_index=True\n",
    ")\n",
    "\n",
    "# to actually split the documents we use the split_documetns method \n",
    "all_splits = text_splitter.split_documents(docs)\n",
    "\n",
    "print(f\"split documents into {len(all_splits)}\")"
   ]
  },
  {
   "cell_type": "markdown",
   "id": "f68e6a49",
   "metadata": {},
   "source": [
    "Store\n",
    "\n",
    "We will use a vector db to store these chunks in order to index and embed them for search during runtime. We can do this in a single line to handle both embedding and chunk storage. "
   ]
  },
  {
   "cell_type": "code",
   "execution_count": 65,
   "id": "ce6df91a",
   "metadata": {},
   "outputs": [
    {
     "name": "stderr",
     "output_type": "stream",
     "text": [
      "INFO: HTTP Request: POST https://api.openai.com/v1/embeddings \"HTTP/1.1 200 OK\"\n"
     ]
    },
    {
     "name": "stdout",
     "output_type": "stream",
     "text": [
      "['4494c594-41b1-4c1f-9df3-3b32f1334205', '0d400d2f-1412-4965-b439-c8d42a534009', '29f00ce0-5d54-41e9-98ea-e58190de40d2']\n"
     ]
    }
   ],
   "source": [
    "documents_ids = vector_store.add_documents(documents=all_splits)\n",
    "print(documents_ids[:3])"
   ]
  },
  {
   "cell_type": "markdown",
   "id": "0bbb0214",
   "metadata": {},
   "source": [
    "Retrieval and Generation\n",
    "\n",
    "We will now create a simple application that takes a user question, retrieves the most relevant context, and inputs both the question and context to an LLM. "
   ]
  },
  {
   "cell_type": "code",
   "execution_count": null,
   "id": "9da64f9e",
   "metadata": {},
   "outputs": [
    {
     "name": "stdout",
     "output_type": "stream",
     "text": [
      "You are an assistant for question-answering tasks. Use the following pieces of retrieved context to answer the question. If you don't know the answer, just say that you don't know. Use three sentences maximum and keep the answer concise.\n",
      "Question: (answer goes here) \n",
      "Context: (context goes here) \n",
      "Answer:\n"
     ]
    }
   ],
   "source": [
    "from langchain import hub\n",
    "\n",
    "# pull prompt from hub. Good for maintaining prompts \n",
    "prompt = hub.pull('rlm/rag-prompt')\n",
    "\n",
    "example_message = prompt.invoke(\n",
    "    {\"context\": \"(context goes here)\", \"question\": \"(answer goes here)\"}\n",
    ").to_messages() # formats prompt output \n",
    "\n",
    "print(example_message[0].content)"
   ]
  },
  {
   "cell_type": "markdown",
   "id": "c5686f21",
   "metadata": {},
   "source": [
    "We will now use LangGraph to tie in both retrieval and generation into a single application\n",
    "\n",
    "We need: \n",
    "\n",
    "1. State (our application)\n",
    "2. Nodes (the steps in our application)\n",
    "3. Control Flow (the ordering of steps)"
   ]
  },
  {
   "cell_type": "markdown",
   "id": "f8d62aea",
   "metadata": {},
   "source": [
    "State\n",
    "\n",
    "State is what controls the input of our application, what is transferred between steps, and also whats output. \n",
    "\n",
    "For simple RAG we are tracking the question, answer, and context"
   ]
  },
  {
   "cell_type": "code",
   "execution_count": 70,
   "id": "c0b53716",
   "metadata": {},
   "outputs": [],
   "source": [
    "from langchain_core.documents import Document\n",
    "from typing_extensions import List, TypedDict\n",
    "\n",
    "class State(TypedDict):\n",
    "    question: str\n",
    "    context: List[Document]\n",
    "    answer: str"
   ]
  },
  {
   "cell_type": "markdown",
   "id": "c1e73e60",
   "metadata": {},
   "source": [
    "Nodes\n",
    "\n",
    "Nodes are our steps in the application. We will have retrieval and generation \n",
    "\n",
    "Retrieval uses similarity search to find documents most relevant to our question, generation will take both question and context to generate the most accurate answer. "
   ]
  },
  {
   "cell_type": "code",
   "execution_count": 71,
   "id": "87bcac16",
   "metadata": {},
   "outputs": [],
   "source": [
    "def retrieval(state:State):\n",
    "    retrieved_docs = vector_store.similarity_search(state['question'])\n",
    "    return {\"context\": retrieved_docs}\n",
    "\n",
    "def generate(state:State):\n",
    "    # join docs content \n",
    "    docs_content = \"\".join([doc.page_content for doc in state[\"context\"]])\n",
    "    # pass question and context\n",
    "    messages = prompt.invoke(\n",
    "        {\"question\": state['question'], \"context\": docs_content}\n",
    "    )\n",
    "    # generate response \n",
    "    response = llm.invoke(messages)\n",
    "    return {\"answer\": response}"
   ]
  },
  {
   "cell_type": "code",
   "execution_count": null,
   "id": "017ba681",
   "metadata": {},
   "outputs": [],
   "source": []
  }
 ],
 "metadata": {
  "kernelspec": {
   "display_name": ".venv",
   "language": "python",
   "name": "python3"
  },
  "language_info": {
   "codemirror_mode": {
    "name": "ipython",
    "version": 3
   },
   "file_extension": ".py",
   "mimetype": "text/x-python",
   "name": "python",
   "nbconvert_exporter": "python",
   "pygments_lexer": "ipython3",
   "version": "3.13.3"
  }
 },
 "nbformat": 4,
 "nbformat_minor": 5
}
